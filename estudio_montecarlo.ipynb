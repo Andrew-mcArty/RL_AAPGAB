{
 "cells": [
  {
   "cell_type": "markdown",
   "metadata": {},
   "source": [
    "<a target=\"_blank\" href=\"https://colab.research.google.com/github/Andrew-mcArty/RL_AAPGAB/blob/main/estudio_montecarlo.ipynb\">\n",
    "  <img src=\"https://colab.research.google.com/assets/colab-badge.svg\" alt=\"Open In Colab\"/>\n",
    "</a>"
   ]
  },
  {
   "cell_type": "code",
   "execution_count": 1,
   "metadata": {},
   "outputs": [
    {
     "name": "stderr",
     "output_type": "stream",
     "text": [
      "  % Total    % Received % Xferd  Average Speed   Time    Time     Time  Current\n",
      "                                 Dload  Upload   Total   Spent    Left  Speed\n",
      "\n",
      "  0     0    0     0    0     0      0      0 --:--:-- --:--:-- --:--:--     0\n",
      "  0 31428    0     0    0     0      0      0 --:--:-- --:--:-- --:--:--     0\n",
      "100 31428  100 31428    0     0   252k      0 --:--:-- --:--:-- --:--:--  264k\n"
     ]
    }
   ],
   "source": [
    "!curl -O https://raw.githubusercontent.com/Andrew-mcArty/RL_AAPGAB/refs/heads/main/src/FrozenAgent.py"
   ]
  },
  {
   "cell_type": "code",
   "execution_count": 2,
   "metadata": {},
   "outputs": [],
   "source": [
    "from __future__ import annotations\n",
    "from collections import defaultdict\n",
    "import matplotlib.pyplot as plt\n",
    "import numpy as np\n",
    "import seaborn as sns\n",
    "from tqdm import tqdm\n",
    "import gymnasium as gym\n",
    "import FrozenAgent\n",
    "import random\n",
    "import time\n",
    "\n",
    "semilla=100"
   ]
  },
  {
   "cell_type": "markdown",
   "metadata": {},
   "source": [
    "Cargamos el entorno"
   ]
  },
  {
   "cell_type": "code",
   "execution_count": 3,
   "metadata": {},
   "outputs": [
    {
     "name": "stdout",
     "output_type": "stream",
     "text": [
      "definimos el entorno:\n"
     ]
    }
   ],
   "source": [
    "\n",
    "\n",
    "print(\"definimos el entorno:\")\n",
    "name = 'FrozenLake-v1'\n",
    "env4 = gym.make(name, is_slippery=False, map_name=\"4x4\", render_mode=\"ansi\") # No resbaladizo para entender mejor los resultados.\n",
    "env8 = gym.make(name, is_slippery=False, map_name=\"8x8\", render_mode=\"ansi\") # No resbaladizo para entender mejor los resultados.\n"
   ]
  },
  {
   "cell_type": "markdown",
   "metadata": {},
   "source": [
    "Función útil para establecer la semilla tanto en numpy como en la librería random"
   ]
  },
  {
   "cell_type": "code",
   "execution_count": 4,
   "metadata": {},
   "outputs": [],
   "source": [
    "\n",
    "def setSemilla(semilla):\n",
    "    random.seed(semilla)\n",
    "    np.random.seed(semilla)\n"
   ]
  },
  {
   "cell_type": "markdown",
   "metadata": {},
   "source": [
    "Algorimto genérico de para evaluar un agente"
   ]
  },
  {
   "cell_type": "code",
   "execution_count": 5,
   "metadata": {},
   "outputs": [],
   "source": [
    "\n",
    "def train_agent(agent, env, num_episodes=5000, decay=False, semilla=1):\n",
    "    agent.initAgent()\n",
    "    for episode in tqdm(range(num_episodes)):\n",
    "        state, info = env.reset(seed=semilla)\n",
    "        done = False\n",
    "    \n",
    "        start_time=time.time_ns()\n",
    "        #inicializo el episodio\n",
    "        agent.initEpisode()\n",
    "    \n",
    "        # play one episode\n",
    "        while not done:\n",
    "            if decay:\n",
    "                agent.decay_epsilon()\n",
    "            action = agent.get_action(env, state)\n",
    "            \n",
    "            next_state, reward, terminated, truncated, info = env.step(action)\n",
    "\n",
    "            # update the agent\n",
    "            agent.updateStep(state, action, reward, terminated, next_state)\n",
    "            \n",
    "            # update if the environment is done and the current state\n",
    "            done = terminated or truncated\n",
    "            state = next_state\n",
    "            \n",
    "        #después de acabar el episodio actualizo la Q y el epsilon\n",
    "        agent.updateEpisode()\n"
   ]
  },
  {
   "cell_type": "markdown",
   "metadata": {},
   "source": [
    "Muestra los resultados recogidos por el agente durante su entrenamiento. Esta función muestra dos indicadores que implementan todos los agentes: \n",
    "* proporción de recompensas: suma recompensas / episodios\n",
    "* proporción de tamaño de episodios: suma len(episodio) / episodios"
   ]
  },
  {
   "cell_type": "code",
   "execution_count": 6,
   "metadata": {},
   "outputs": [],
   "source": [
    "\n",
    "\n",
    "def plot2(agent1,agent2):\n",
    "  # Creamos una lista de índices para el eje x\n",
    "  indices1 = list(range(len(agent1.list_stats)))\n",
    "  indices2 = list(range(len(agent2.list_stats)))\n",
    "    \n",
    "  # Crear figura con dos subgráficos\n",
    "  fig, (ax1, ax2) = plt.subplots(2, 1, figsize=(8, 6))\n",
    "\n",
    "  # Primer subplot\n",
    "  ax1.plot(indices1, agent1.list_stats, label=agent1)\n",
    "  ax1.plot(indices2, agent2.list_stats, label=agent2)\n",
    "  ax1.set_title('Proporción de recompensas')\n",
    "  ax1.set_xlabel('Episodio')\n",
    "  ax1.set_ylabel('Proporción')\n",
    "  ax1.legend()\n",
    "  ax1.grid(True)\n",
    "\n",
    "  # Segundo subplot\n",
    "  ax2.plot(indices1, agent1.list_episodes, label=agent1)\n",
    "  ax2.plot(indices2, agent2.list_episodes, label=agent2)\n",
    "  ax2.set_title('Tamaño de episodios')\n",
    "  ax2.set_xlabel('Episodio')\n",
    "  ax2.set_ylabel('Tamaño')\n",
    "  ax2.legend()\n",
    "  ax2.grid(True)\n",
    "\n",
    "  # Ajustar diseño y mostrar gráfico\n",
    "  plt.tight_layout()\n",
    "  plt.show()  \n",
    "\n"
   ]
  },
  {
   "cell_type": "markdown",
   "metadata": {},
   "source": [
    "Definimos dos agentes: MC on policy all visits y first visit.\n",
    "\n",
    "Ejecutamos en entrenameiento y obtenemos la mejor política de cada uno"
   ]
  },
  {
   "cell_type": "code",
   "execution_count": 7,
   "metadata": {},
   "outputs": [
    {
     "name": "stderr",
     "output_type": "stream",
     "text": [
      "100%|██████████| 5000/5000 [00:02<00:00, 1925.04it/s]\n",
      "100%|██████████| 5000/5000 [00:02<00:00, 1960.70it/s]\n"
     ]
    }
   ],
   "source": [
    "\n",
    "\n",
    "#inicializo los numeros aleatorios\n",
    "setSemilla(semilla)\n",
    "\n",
    "# hyperparameters\n",
    "n_episodes = 5000\n",
    "start_epsilon = 0.1\n",
    "discount_factor = 0.99\n",
    "\n",
    "agent1 = FrozenAgent.FrozenAgentMC_On_All(\n",
    "    env=env4,\n",
    "    epsilon=start_epsilon,\n",
    "    discount_factor=discount_factor,\n",
    ")\n",
    "agent2 = FrozenAgent.FrozenAgentMC_On_First(\n",
    "    env=env4,\n",
    "    epsilon=start_epsilon,\n",
    "    discount_factor=discount_factor,\n",
    ")\n",
    "\n",
    "train_agent(agent1, env4, num_episodes=n_episodes, decay=False, semilla=semilla)\n",
    "train_agent(agent2, env4, num_episodes=n_episodes, decay=False, semilla=semilla)\n",
    "\n",
    "pi1, actions1 = agent1.pi_star_from_Q(env4, agent1.Q)\n",
    "pi2, actions2 = agent2.pi_star_from_Q(env4, agent2.Q)\n"
   ]
  },
  {
   "cell_type": "markdown",
   "metadata": {},
   "source": [
    "Mostramos resultados"
   ]
  },
  {
   "cell_type": "code",
   "execution_count": 8,
   "metadata": {},
   "outputs": [
    {
     "ename": "AttributeError",
     "evalue": "'FrozenAgentMC_On_All' object has no attribute 'description'",
     "output_type": "error",
     "traceback": [
      "\u001b[1;31m---------------------------------------------------------------------------\u001b[0m",
      "\u001b[1;31mAttributeError\u001b[0m                            Traceback (most recent call last)",
      "Cell \u001b[1;32mIn[8], line 1\u001b[0m\n\u001b[1;32m----> 1\u001b[0m \u001b[43mplot2\u001b[49m\u001b[43m(\u001b[49m\u001b[43magent1\u001b[49m\u001b[43m,\u001b[49m\u001b[43magent2\u001b[49m\u001b[43m)\u001b[49m\n",
      "Cell \u001b[1;32mIn[6], line 10\u001b[0m, in \u001b[0;36mplot2\u001b[1;34m(agent1, agent2)\u001b[0m\n\u001b[0;32m      7\u001b[0m fig, (ax1, ax2) \u001b[38;5;241m=\u001b[39m plt\u001b[38;5;241m.\u001b[39msubplots(\u001b[38;5;241m2\u001b[39m, \u001b[38;5;241m1\u001b[39m, figsize\u001b[38;5;241m=\u001b[39m(\u001b[38;5;241m8\u001b[39m, \u001b[38;5;241m6\u001b[39m))\n\u001b[0;32m      9\u001b[0m \u001b[38;5;66;03m# Primer subplot\u001b[39;00m\n\u001b[1;32m---> 10\u001b[0m \u001b[43max1\u001b[49m\u001b[38;5;241;43m.\u001b[39;49m\u001b[43mplot\u001b[49m\u001b[43m(\u001b[49m\u001b[43mindices1\u001b[49m\u001b[43m,\u001b[49m\u001b[43m \u001b[49m\u001b[43magent1\u001b[49m\u001b[38;5;241;43m.\u001b[39;49m\u001b[43mlist_stats\u001b[49m\u001b[43m,\u001b[49m\u001b[43m \u001b[49m\u001b[43mlabel\u001b[49m\u001b[38;5;241;43m=\u001b[39;49m\u001b[43magent1\u001b[49m\u001b[43m)\u001b[49m\n\u001b[0;32m     11\u001b[0m ax1\u001b[38;5;241m.\u001b[39mplot(indices2, agent2\u001b[38;5;241m.\u001b[39mlist_stats, label\u001b[38;5;241m=\u001b[39magent2)\n\u001b[0;32m     12\u001b[0m ax1\u001b[38;5;241m.\u001b[39mset_title(\u001b[38;5;124m'\u001b[39m\u001b[38;5;124mProporción de recompensas\u001b[39m\u001b[38;5;124m'\u001b[39m)\n",
      "File \u001b[1;32mc:\\SW\\Python312\\Lib\\site-packages\\matplotlib\\axes\\_axes.py:1724\u001b[0m, in \u001b[0;36mAxes.plot\u001b[1;34m(self, scalex, scaley, data, *args, **kwargs)\u001b[0m\n\u001b[0;32m   1481\u001b[0m \u001b[38;5;250m\u001b[39m\u001b[38;5;124;03m\"\"\"\u001b[39;00m\n\u001b[0;32m   1482\u001b[0m \u001b[38;5;124;03mPlot y versus x as lines and/or markers.\u001b[39;00m\n\u001b[0;32m   1483\u001b[0m \n\u001b[1;32m   (...)\u001b[0m\n\u001b[0;32m   1721\u001b[0m \u001b[38;5;124;03m(``'green'``) or hex strings (``'#008000'``).\u001b[39;00m\n\u001b[0;32m   1722\u001b[0m \u001b[38;5;124;03m\"\"\"\u001b[39;00m\n\u001b[0;32m   1723\u001b[0m kwargs \u001b[38;5;241m=\u001b[39m cbook\u001b[38;5;241m.\u001b[39mnormalize_kwargs(kwargs, mlines\u001b[38;5;241m.\u001b[39mLine2D)\n\u001b[1;32m-> 1724\u001b[0m lines \u001b[38;5;241m=\u001b[39m [\u001b[38;5;241m*\u001b[39m\u001b[38;5;28mself\u001b[39m\u001b[38;5;241m.\u001b[39m_get_lines(\u001b[38;5;28mself\u001b[39m, \u001b[38;5;241m*\u001b[39margs, data\u001b[38;5;241m=\u001b[39mdata, \u001b[38;5;241m*\u001b[39m\u001b[38;5;241m*\u001b[39mkwargs)]\n\u001b[0;32m   1725\u001b[0m \u001b[38;5;28;01mfor\u001b[39;00m line \u001b[38;5;129;01min\u001b[39;00m lines:\n\u001b[0;32m   1726\u001b[0m     \u001b[38;5;28mself\u001b[39m\u001b[38;5;241m.\u001b[39madd_line(line)\n",
      "File \u001b[1;32mc:\\SW\\Python312\\Lib\\site-packages\\matplotlib\\axes\\_base.py:303\u001b[0m, in \u001b[0;36m_process_plot_var_args.__call__\u001b[1;34m(self, axes, data, *args, **kwargs)\u001b[0m\n\u001b[0;32m    301\u001b[0m     this \u001b[38;5;241m+\u001b[39m\u001b[38;5;241m=\u001b[39m args[\u001b[38;5;241m0\u001b[39m],\n\u001b[0;32m    302\u001b[0m     args \u001b[38;5;241m=\u001b[39m args[\u001b[38;5;241m1\u001b[39m:]\n\u001b[1;32m--> 303\u001b[0m \u001b[38;5;28;01myield from\u001b[39;00m \u001b[38;5;28;43mself\u001b[39;49m\u001b[38;5;241;43m.\u001b[39;49m\u001b[43m_plot_args\u001b[49m\u001b[43m(\u001b[49m\n\u001b[0;32m    304\u001b[0m \u001b[43m    \u001b[49m\u001b[43maxes\u001b[49m\u001b[43m,\u001b[49m\u001b[43m \u001b[49m\u001b[43mthis\u001b[49m\u001b[43m,\u001b[49m\u001b[43m \u001b[49m\u001b[43mkwargs\u001b[49m\u001b[43m,\u001b[49m\u001b[43m \u001b[49m\u001b[43mambiguous_fmt_datakey\u001b[49m\u001b[38;5;241;43m=\u001b[39;49m\u001b[43mambiguous_fmt_datakey\u001b[49m\u001b[43m)\u001b[49m\n",
      "File \u001b[1;32mc:\\SW\\Python312\\Lib\\site-packages\\matplotlib\\axes\\_base.py:539\u001b[0m, in \u001b[0;36m_process_plot_var_args._plot_args\u001b[1;34m(self, axes, tup, kwargs, return_kwargs, ambiguous_fmt_datakey)\u001b[0m\n\u001b[0;32m    537\u001b[0m     \u001b[38;5;28;01mreturn\u001b[39;00m \u001b[38;5;28mlist\u001b[39m(result)\n\u001b[0;32m    538\u001b[0m \u001b[38;5;28;01melse\u001b[39;00m:\n\u001b[1;32m--> 539\u001b[0m     \u001b[38;5;28;01mreturn\u001b[39;00m \u001b[43m[\u001b[49m\u001b[43ml\u001b[49m\u001b[43m[\u001b[49m\u001b[38;5;241;43m0\u001b[39;49m\u001b[43m]\u001b[49m\u001b[43m \u001b[49m\u001b[38;5;28;43;01mfor\u001b[39;49;00m\u001b[43m \u001b[49m\u001b[43ml\u001b[49m\u001b[43m \u001b[49m\u001b[38;5;129;43;01min\u001b[39;49;00m\u001b[43m \u001b[49m\u001b[43mresult\u001b[49m\u001b[43m]\u001b[49m\n",
      "File \u001b[1;32mc:\\SW\\Python312\\Lib\\site-packages\\matplotlib\\axes\\_base.py:532\u001b[0m, in \u001b[0;36m<genexpr>\u001b[1;34m(.0)\u001b[0m\n\u001b[0;32m    529\u001b[0m \u001b[38;5;28;01melse\u001b[39;00m:\n\u001b[0;32m    530\u001b[0m     labels \u001b[38;5;241m=\u001b[39m [label] \u001b[38;5;241m*\u001b[39m n_datasets\n\u001b[1;32m--> 532\u001b[0m result \u001b[38;5;241m=\u001b[39m (\u001b[43mmake_artist\u001b[49m\u001b[43m(\u001b[49m\u001b[43maxes\u001b[49m\u001b[43m,\u001b[49m\u001b[43m \u001b[49m\u001b[43mx\u001b[49m\u001b[43m[\u001b[49m\u001b[43m:\u001b[49m\u001b[43m,\u001b[49m\u001b[43m \u001b[49m\u001b[43mj\u001b[49m\u001b[43m \u001b[49m\u001b[38;5;241;43m%\u001b[39;49m\u001b[43m \u001b[49m\u001b[43mncx\u001b[49m\u001b[43m]\u001b[49m\u001b[43m,\u001b[49m\u001b[43m \u001b[49m\u001b[43my\u001b[49m\u001b[43m[\u001b[49m\u001b[43m:\u001b[49m\u001b[43m,\u001b[49m\u001b[43m \u001b[49m\u001b[43mj\u001b[49m\u001b[43m \u001b[49m\u001b[38;5;241;43m%\u001b[39;49m\u001b[43m \u001b[49m\u001b[43mncy\u001b[49m\u001b[43m]\u001b[49m\u001b[43m,\u001b[49m\u001b[43m \u001b[49m\u001b[43mkw\u001b[49m\u001b[43m,\u001b[49m\n\u001b[0;32m    533\u001b[0m \u001b[43m                      \u001b[49m\u001b[43m{\u001b[49m\u001b[38;5;241;43m*\u001b[39;49m\u001b[38;5;241;43m*\u001b[39;49m\u001b[43mkwargs\u001b[49m\u001b[43m,\u001b[49m\u001b[43m \u001b[49m\u001b[38;5;124;43m'\u001b[39;49m\u001b[38;5;124;43mlabel\u001b[39;49m\u001b[38;5;124;43m'\u001b[39;49m\u001b[43m:\u001b[49m\u001b[43m \u001b[49m\u001b[43mlabel\u001b[49m\u001b[43m}\u001b[49m\u001b[43m)\u001b[49m\n\u001b[0;32m    534\u001b[0m           \u001b[38;5;28;01mfor\u001b[39;00m j, label \u001b[38;5;129;01min\u001b[39;00m \u001b[38;5;28menumerate\u001b[39m(labels))\n\u001b[0;32m    536\u001b[0m \u001b[38;5;28;01mif\u001b[39;00m return_kwargs:\n\u001b[0;32m    537\u001b[0m     \u001b[38;5;28;01mreturn\u001b[39;00m \u001b[38;5;28mlist\u001b[39m(result)\n",
      "File \u001b[1;32mc:\\SW\\Python312\\Lib\\site-packages\\matplotlib\\axes\\_base.py:346\u001b[0m, in \u001b[0;36m_process_plot_var_args._makeline\u001b[1;34m(self, axes, x, y, kw, kwargs)\u001b[0m\n\u001b[0;32m    344\u001b[0m default_dict \u001b[38;5;241m=\u001b[39m \u001b[38;5;28mself\u001b[39m\u001b[38;5;241m.\u001b[39m_getdefaults(\u001b[38;5;28mset\u001b[39m(), kw)\n\u001b[0;32m    345\u001b[0m \u001b[38;5;28mself\u001b[39m\u001b[38;5;241m.\u001b[39m_setdefaults(default_dict, kw)\n\u001b[1;32m--> 346\u001b[0m seg \u001b[38;5;241m=\u001b[39m \u001b[43mmlines\u001b[49m\u001b[38;5;241;43m.\u001b[39;49m\u001b[43mLine2D\u001b[49m\u001b[43m(\u001b[49m\u001b[43mx\u001b[49m\u001b[43m,\u001b[49m\u001b[43m \u001b[49m\u001b[43my\u001b[49m\u001b[43m,\u001b[49m\u001b[43m \u001b[49m\u001b[38;5;241;43m*\u001b[39;49m\u001b[38;5;241;43m*\u001b[39;49m\u001b[43mkw\u001b[49m\u001b[43m)\u001b[49m\n\u001b[0;32m    347\u001b[0m \u001b[38;5;28;01mreturn\u001b[39;00m seg, kw\n",
      "File \u001b[1;32mc:\\SW\\Python312\\Lib\\site-packages\\matplotlib\\lines.py:407\u001b[0m, in \u001b[0;36mLine2D.__init__\u001b[1;34m(self, xdata, ydata, linewidth, linestyle, color, gapcolor, marker, markersize, markeredgewidth, markeredgecolor, markerfacecolor, markerfacecoloralt, fillstyle, antialiased, dash_capstyle, solid_capstyle, dash_joinstyle, solid_joinstyle, pickradius, drawstyle, markevery, **kwargs)\u001b[0m\n\u001b[0;32m    403\u001b[0m \u001b[38;5;28mself\u001b[39m\u001b[38;5;241m.\u001b[39mset_markeredgewidth(markeredgewidth)\n\u001b[0;32m    405\u001b[0m \u001b[38;5;66;03m# update kwargs before updating data to give the caller a\u001b[39;00m\n\u001b[0;32m    406\u001b[0m \u001b[38;5;66;03m# chance to init axes (and hence unit support)\u001b[39;00m\n\u001b[1;32m--> 407\u001b[0m \u001b[38;5;28;43mself\u001b[39;49m\u001b[38;5;241;43m.\u001b[39;49m\u001b[43m_internal_update\u001b[49m\u001b[43m(\u001b[49m\u001b[43mkwargs\u001b[49m\u001b[43m)\u001b[49m\n\u001b[0;32m    408\u001b[0m \u001b[38;5;28mself\u001b[39m\u001b[38;5;241m.\u001b[39mpickradius \u001b[38;5;241m=\u001b[39m pickradius\n\u001b[0;32m    409\u001b[0m \u001b[38;5;28mself\u001b[39m\u001b[38;5;241m.\u001b[39mind_offset \u001b[38;5;241m=\u001b[39m \u001b[38;5;241m0\u001b[39m\n",
      "File \u001b[1;32mc:\\SW\\Python312\\Lib\\site-packages\\matplotlib\\artist.py:1219\u001b[0m, in \u001b[0;36mArtist._internal_update\u001b[1;34m(self, kwargs)\u001b[0m\n\u001b[0;32m   1212\u001b[0m \u001b[38;5;28;01mdef\u001b[39;00m \u001b[38;5;21m_internal_update\u001b[39m(\u001b[38;5;28mself\u001b[39m, kwargs):\n\u001b[0;32m   1213\u001b[0m \u001b[38;5;250m    \u001b[39m\u001b[38;5;124;03m\"\"\"\u001b[39;00m\n\u001b[0;32m   1214\u001b[0m \u001b[38;5;124;03m    Update artist properties without prenormalizing them, but generating\u001b[39;00m\n\u001b[0;32m   1215\u001b[0m \u001b[38;5;124;03m    errors as if calling `set`.\u001b[39;00m\n\u001b[0;32m   1216\u001b[0m \n\u001b[0;32m   1217\u001b[0m \u001b[38;5;124;03m    The lack of prenormalization is to maintain backcompatibility.\u001b[39;00m\n\u001b[0;32m   1218\u001b[0m \u001b[38;5;124;03m    \"\"\"\u001b[39;00m\n\u001b[1;32m-> 1219\u001b[0m     \u001b[38;5;28;01mreturn\u001b[39;00m \u001b[38;5;28;43mself\u001b[39;49m\u001b[38;5;241;43m.\u001b[39;49m\u001b[43m_update_props\u001b[49m\u001b[43m(\u001b[49m\n\u001b[0;32m   1220\u001b[0m \u001b[43m        \u001b[49m\u001b[43mkwargs\u001b[49m\u001b[43m,\u001b[49m\u001b[43m \u001b[49m\u001b[38;5;124;43m\"\u001b[39;49m\u001b[38;5;132;43;01m{cls.__name__}\u001b[39;49;00m\u001b[38;5;124;43m.set() got an unexpected keyword argument \u001b[39;49m\u001b[38;5;124;43m\"\u001b[39;49m\n\u001b[0;32m   1221\u001b[0m \u001b[43m        \u001b[49m\u001b[38;5;124;43m\"\u001b[39;49m\u001b[38;5;132;43;01m{prop_name!r}\u001b[39;49;00m\u001b[38;5;124;43m\"\u001b[39;49m\u001b[43m)\u001b[49m\n",
      "File \u001b[1;32mc:\\SW\\Python312\\Lib\\site-packages\\matplotlib\\artist.py:1195\u001b[0m, in \u001b[0;36mArtist._update_props\u001b[1;34m(self, props, errfmt)\u001b[0m\n\u001b[0;32m   1192\u001b[0m             \u001b[38;5;28;01mif\u001b[39;00m \u001b[38;5;129;01mnot\u001b[39;00m \u001b[38;5;28mcallable\u001b[39m(func):\n\u001b[0;32m   1193\u001b[0m                 \u001b[38;5;28;01mraise\u001b[39;00m \u001b[38;5;167;01mAttributeError\u001b[39;00m(\n\u001b[0;32m   1194\u001b[0m                     errfmt\u001b[38;5;241m.\u001b[39mformat(\u001b[38;5;28mcls\u001b[39m\u001b[38;5;241m=\u001b[39m\u001b[38;5;28mtype\u001b[39m(\u001b[38;5;28mself\u001b[39m), prop_name\u001b[38;5;241m=\u001b[39mk))\n\u001b[1;32m-> 1195\u001b[0m             ret\u001b[38;5;241m.\u001b[39mappend(\u001b[43mfunc\u001b[49m\u001b[43m(\u001b[49m\u001b[43mv\u001b[49m\u001b[43m)\u001b[49m)\n\u001b[0;32m   1196\u001b[0m \u001b[38;5;28;01mif\u001b[39;00m ret:\n\u001b[0;32m   1197\u001b[0m     \u001b[38;5;28mself\u001b[39m\u001b[38;5;241m.\u001b[39mpchanged()\n",
      "File \u001b[1;32mc:\\SW\\Python312\\Lib\\site-packages\\matplotlib\\artist.py:1102\u001b[0m, in \u001b[0;36mArtist.set_label\u001b[1;34m(self, s)\u001b[0m\n\u001b[0;32m   1093\u001b[0m \u001b[38;5;28;01mdef\u001b[39;00m \u001b[38;5;21mset_label\u001b[39m(\u001b[38;5;28mself\u001b[39m, s):\n\u001b[0;32m   1094\u001b[0m \u001b[38;5;250m    \u001b[39m\u001b[38;5;124;03m\"\"\"\u001b[39;00m\n\u001b[0;32m   1095\u001b[0m \u001b[38;5;124;03m    Set a label that will be displayed in the legend.\u001b[39;00m\n\u001b[0;32m   1096\u001b[0m \n\u001b[1;32m   (...)\u001b[0m\n\u001b[0;32m   1100\u001b[0m \u001b[38;5;124;03m        *s* will be converted to a string by calling `str`.\u001b[39;00m\n\u001b[0;32m   1101\u001b[0m \u001b[38;5;124;03m    \"\"\"\u001b[39;00m\n\u001b[1;32m-> 1102\u001b[0m     label \u001b[38;5;241m=\u001b[39m \u001b[38;5;28;43mstr\u001b[39;49m\u001b[43m(\u001b[49m\u001b[43ms\u001b[49m\u001b[43m)\u001b[49m \u001b[38;5;28;01mif\u001b[39;00m s \u001b[38;5;129;01mis\u001b[39;00m \u001b[38;5;129;01mnot\u001b[39;00m \u001b[38;5;28;01mNone\u001b[39;00m \u001b[38;5;28;01melse\u001b[39;00m \u001b[38;5;28;01mNone\u001b[39;00m\n\u001b[0;32m   1103\u001b[0m     \u001b[38;5;28;01mif\u001b[39;00m label \u001b[38;5;241m!=\u001b[39m \u001b[38;5;28mself\u001b[39m\u001b[38;5;241m.\u001b[39m_label:\n\u001b[0;32m   1104\u001b[0m         \u001b[38;5;28mself\u001b[39m\u001b[38;5;241m.\u001b[39m_label \u001b[38;5;241m=\u001b[39m label\n",
      "File \u001b[1;32mg:\\Mi unidad\\Doctorado y master\\EML\\RL\\FrozenAgent.py:303\u001b[0m, in \u001b[0;36mFrozenAgentMC_On_All.__str__\u001b[1;34m(self)\u001b[0m\n\u001b[0;32m    302\u001b[0m \u001b[38;5;28;01mdef\u001b[39;00m \u001b[38;5;21m__str__\u001b[39m(\u001b[38;5;28mself\u001b[39m):\n\u001b[1;32m--> 303\u001b[0m     \u001b[38;5;28;01mreturn\u001b[39;00m \u001b[38;5;28;43mself\u001b[39;49m\u001b[38;5;241;43m.\u001b[39;49m\u001b[43mdescription\u001b[49m\n",
      "\u001b[1;31mAttributeError\u001b[0m: 'FrozenAgentMC_On_All' object has no attribute 'description'"
     ]
    },
    {
     "data": {
      "image/png": "[encoded data removed]",
      "text/plain": [
       "<Figure size 800x600 with 2 Axes>"
      ]
     },
     "metadata": {},
     "output_type": "display_data"
    }
   ],
   "source": [
    "plot2(agent1,agent2)\n"
   ]
  },
  {
   "cell_type": "code",
   "execution_count": null,
   "metadata": {},
   "outputs": [
    {
     "name": "stdout",
     "output_type": "stream",
     "text": [
      "================== AGENTE 1 <FrozenAgent.FrozenAgentMC_On_All object at 0x0000015A369367B0>\n",
      "Máxima proporcion: 0.7915306821324882\n",
      "Valores Q para cada estado:\n",
      " [[ 0.00741203  0.7843006   0.19897185  0.22134899]\n",
      " [ 0.02882254  0.          0.76223387  0.06792786]\n",
      " [ 0.45098239  0.88273373  0.271914    0.47517229]\n",
      " [ 0.30221786  0.          0.60971547  0.09245304]\n",
      " [ 0.02535606  0.85685731  0.          0.38304482]\n",
      " [ 0.19291719 -0.34845893  2.29865394 -0.16520955]\n",
      " [ 0.          0.96876895  0.          0.76465364]\n",
      " [ 1.70362399 -0.72215077  1.09368665 -0.22951775]\n",
      " [ 0.05178953  0.          0.90115996  0.54468846]\n",
      " [ 0.63504998  0.94614576  0.85767246  0.        ]\n",
      " [ 0.96853482  0.98514719  0.          0.96202374]\n",
      " [ 0.22239081 -0.68492174 -0.12620118  1.99027365]\n",
      " [ 0.5229978  -0.0163454  -0.41581634 -1.35850294]\n",
      " [ 0.          0.79028801  0.9828366   0.89744772]\n",
      " [ 0.91437643  0.98063603  1.          0.85073446]\n",
      " [ 0.73699517  0.43586725  1.77599359  0.51307438]]\n",
      "Política óptima obtenida\n",
      " [[0. 1. 0. 0.]\n",
      " [0. 0. 0. 0.]\n",
      " [0. 0. 0. 0.]\n",
      " [0. 0. 0. 0.]\n",
      " [0. 1. 0. 0.]\n",
      " [0. 0. 0. 0.]\n",
      " [0. 0. 0. 0.]\n",
      " [0. 0. 0. 0.]\n",
      " [0. 0. 2. 0.]\n",
      " [0. 1. 0. 0.]\n",
      " [0. 0. 0. 0.]\n",
      " [0. 0. 0. 0.]\n",
      " [0. 0. 0. 0.]\n",
      " [0. 0. 2. 0.]\n",
      " [0. 0. 2. 0.]\n",
      " [0. 0. 0. 0.]] \n",
      " Acciones 1, 1, 2, 1, 2, 2,  \n",
      " Para el siguiente grid\n",
      "   (Right)\n",
      "SFFF\n",
      "FHFH\n",
      "FFFH\n",
      "HFF\u001b[41mG\u001b[0m\n",
      "\n",
      "\n",
      "================== AGENTE 2 <FrozenAgent.FrozenAgentMC_On_First object at 0x0000015A515CCFE0>\n",
      "Máxima proporcion: 0.7781790348057307\n",
      "Valores Q para cada estado:\n",
      " [[ 2.05616022e-01  7.86446769e-01  2.84583511e-01  2.83753866e-01]\n",
      " [ 2.98287613e-01  0.00000000e+00  1.38411704e-01  1.33152193e-01]\n",
      " [ 1.47168213e-01  0.00000000e+00  0.00000000e+00  0.00000000e+00]\n",
      " [ 6.99017457e-01  0.00000000e+00 -1.04329080e+00  4.35232374e-01]\n",
      " [ 2.24031536e-01  8.52302192e-01  0.00000000e+00  3.81253661e-01]\n",
      " [ 3.66879185e-01 -5.25069184e-01  2.04282120e+00 -1.87165196e+00]\n",
      " [ 1.50742233e-01  9.70348005e-01 -6.58331158e-02  0.00000000e+00]\n",
      " [-8.87194136e-01  1.09637119e-03 -6.48618527e-01 -1.25522446e+00]\n",
      " [ 4.62763827e-01  0.00000000e+00  9.10437735e-01  6.05392265e-01]\n",
      " [ 6.82211766e-01  9.53615340e-01  9.35212295e-01  0.00000000e+00]\n",
      " [ 7.76239200e-01  9.88528248e-01  0.00000000e+00  9.60644525e-01]\n",
      " [ 6.48868623e-01  1.57657494e+00 -1.50134572e+00  1.54249625e-01]\n",
      " [ 1.63399212e+00  4.06802482e-01 -9.06325287e-01  1.32341844e+00]\n",
      " [ 0.00000000e+00  9.70218733e-01  9.87471539e-01  9.36070340e-01]\n",
      " [ 9.61127046e-01  9.88887614e-01  1.00000000e+00  9.46979612e-01]\n",
      " [-6.91606268e-02 -1.26056939e+00  6.99007284e-01 -2.94363323e-01]]\n",
      "Política óptima obtenida\n",
      " [[0. 1. 0. 0.]\n",
      " [0. 0. 0. 0.]\n",
      " [0. 0. 0. 0.]\n",
      " [0. 0. 0. 0.]\n",
      " [0. 1. 0. 0.]\n",
      " [0. 0. 0. 0.]\n",
      " [0. 0. 0. 0.]\n",
      " [0. 0. 0. 0.]\n",
      " [0. 0. 2. 0.]\n",
      " [0. 1. 0. 0.]\n",
      " [0. 0. 0. 0.]\n",
      " [0. 0. 0. 0.]\n",
      " [0. 0. 0. 0.]\n",
      " [0. 0. 2. 0.]\n",
      " [0. 0. 2. 0.]\n",
      " [0. 0. 0. 0.]] \n",
      " Acciones 1, 1, 2, 1, 2, 2,  \n",
      " Para el siguiente grid\n",
      "   (Right)\n",
      "SFFF\n",
      "FHFH\n",
      "FFFH\n",
      "HFF\u001b[41mG\u001b[0m\n",
      "\n",
      "\n"
     ]
    }
   ],
   "source": [
    "\n",
    "print(f\"================== AGENTE 1 {agent1}\")\n",
    "print(f\"Máxima proporcion: {agent1.list_stats[-1]}\")\n",
    "print(\"Valores Q para cada estado:\\n\", agent1.Q)\n",
    "print(\"Política óptima obtenida\\n\", pi1, f\"\\n Acciones {actions1} \\n Para el siguiente grid\\n\", env4.render())\n",
    "print()\n",
    "\n",
    "print(f\"================== AGENTE 2 {agent2}\")\n",
    "print(f\"Máxima proporcion: {agent2.list_stats[-1]}\")\n",
    "print(\"Valores Q para cada estado:\\n\", agent2.Q)\n",
    "print(\"Política óptima obtenida\\n\", pi2, f\"\\n Acciones {actions2} \\n Para el siguiente grid\\n\", env4.render())\n",
    "print()\n",
    "\n"
   ]
  }
 ],
 "metadata": {
  "kernelspec": {
   "display_name": "Python 3",
   "language": "python",
   "name": "python3"
  },
  "language_info": {
   "codemirror_mode": {
    "name": "ipython",
    "version": 3
   },
   "file_extension": ".py",
   "mimetype": "text/x-python",
   "name": "python",
   "nbconvert_exporter": "python",
   "pygments_lexer": "ipython3",
   "version": "3.12.2"
  }
 },
 "nbformat": 4,
 "nbformat_minor": 2
}
